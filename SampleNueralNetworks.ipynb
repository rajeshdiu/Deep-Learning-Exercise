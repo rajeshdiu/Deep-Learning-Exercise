{
 "cells": [
  {
   "cell_type": "code",
   "execution_count": 40,
   "id": "fbad32f9",
   "metadata": {},
   "outputs": [],
   "source": [
    "from tensorflow import keras\n",
    "from keras.datasets import mnist\n",
    "from keras.utils import to_categorical\n",
    "from keras.models import Sequential\n",
    "from keras.layers import Dense,Dropout\n",
    "from keras.optimizers import RMSprop"
   ]
  },
  {
   "cell_type": "code",
   "execution_count": 5,
   "id": "55d46fcb",
   "metadata": {},
   "outputs": [],
   "source": [
    "batch_size=32\n",
    "no_of_obj=10\n",
    "epochs=10"
   ]
  },
  {
   "cell_type": "code",
   "execution_count": 7,
   "id": "7d7d8136",
   "metadata": {},
   "outputs": [
    {
     "name": "stdout",
     "output_type": "stream",
     "text": [
      "Downloading data from https://storage.googleapis.com/tensorflow/tf-keras-datasets/mnist.npz\n",
      "11493376/11490434 [==============================] - 152s 13us/step\n"
     ]
    }
   ],
   "source": [
    "(xtrain_datasets,ytrain_datasets),(xtest_datasets,ytest_datasets)=mnist.load_data()"
   ]
  },
  {
   "cell_type": "code",
   "execution_count": 9,
   "id": "ba3e4dba",
   "metadata": {},
   "outputs": [
    {
     "data": {
      "text/plain": [
       "(10000, 28, 28)"
      ]
     },
     "execution_count": 9,
     "metadata": {},
     "output_type": "execute_result"
    }
   ],
   "source": [
    "xtest_datasets.shape"
   ]
  },
  {
   "cell_type": "code",
   "execution_count": 14,
   "id": "5313b516",
   "metadata": {},
   "outputs": [],
   "source": [
    "xtrain_datasets=xtrain_datasets.reshape(60000,784)\n",
    "xtest_datasets=xtest_datasets.reshape(10000,784)"
   ]
  },
  {
   "cell_type": "code",
   "execution_count": 15,
   "id": "32c21d2b",
   "metadata": {},
   "outputs": [],
   "source": [
    "xtrain_datasets=xtrain_datasets.astype(\"float64\")\n",
    "xtest_datasets=xtest_datasets.astype(\"float64\")"
   ]
  },
  {
   "cell_type": "code",
   "execution_count": 16,
   "id": "603687df",
   "metadata": {},
   "outputs": [],
   "source": [
    "xtrain_datasets=xtrain_datasets/255\n",
    "xtest_datasets=xtest_datasets/255"
   ]
  },
  {
   "cell_type": "code",
   "execution_count": 22,
   "id": "c06e506b",
   "metadata": {},
   "outputs": [
    {
     "data": {
      "text/plain": [
       "(10000, 784)"
      ]
     },
     "execution_count": 22,
     "metadata": {},
     "output_type": "execute_result"
    }
   ],
   "source": [
    "xtest_datasets.shape"
   ]
  },
  {
   "cell_type": "code",
   "execution_count": 26,
   "id": "d6cb24b0",
   "metadata": {},
   "outputs": [],
   "source": [
    "ytrain_datasets=to_categorical(ytrain_datasets,no_of_obj)\n",
    "ytest_datasets=to_categorical(ytest_datasets,no_of_obj)"
   ]
  },
  {
   "cell_type": "code",
   "execution_count": 27,
   "id": "24ac9685",
   "metadata": {},
   "outputs": [],
   "source": [
    "model=Sequential()"
   ]
  },
  {
   "cell_type": "code",
   "execution_count": 36,
   "id": "4b760d4c",
   "metadata": {},
   "outputs": [],
   "source": [
    "model.add(Dense(512,activation=\"relu\",input_shape=(784,)))\n",
    "model.add(Dropout(0.3))\n",
    "model.add(Dense(512,activation=\"relu\"))\n",
    "model.add(Dropout(0.3))"
   ]
  },
  {
   "cell_type": "code",
   "execution_count": 37,
   "id": "138ae707",
   "metadata": {},
   "outputs": [],
   "source": [
    "#output layer\n",
    "model.add(Dense(no_of_obj,activation=\"softmax\"))"
   ]
  },
  {
   "cell_type": "code",
   "execution_count": 38,
   "id": "0b5e7f13",
   "metadata": {},
   "outputs": [
    {
     "name": "stdout",
     "output_type": "stream",
     "text": [
      "Model: \"sequential\"\n",
      "_________________________________________________________________\n",
      "Layer (type)                 Output Shape              Param #   \n",
      "=================================================================\n",
      "dense_2 (Dense)              (None, 512)               401920    \n",
      "_________________________________________________________________\n",
      "dense_3 (Dense)              (None, 512)               262656    \n",
      "_________________________________________________________________\n",
      "dropout (Dropout)            (None, 512)               0         \n",
      "_________________________________________________________________\n",
      "dense_4 (Dense)              (None, 512)               262656    \n",
      "_________________________________________________________________\n",
      "dropout_1 (Dropout)          (None, 512)               0         \n",
      "_________________________________________________________________\n",
      "dense_5 (Dense)              (None, 512)               262656    \n",
      "_________________________________________________________________\n",
      "dense_6 (Dense)              (None, 512)               262656    \n",
      "_________________________________________________________________\n",
      "dropout_2 (Dropout)          (None, 512)               0         \n",
      "_________________________________________________________________\n",
      "dense_7 (Dense)              (None, 512)               262656    \n",
      "_________________________________________________________________\n",
      "dropout_3 (Dropout)          (None, 512)               0         \n",
      "_________________________________________________________________\n",
      "dense_8 (Dense)              (None, 10)                5130      \n",
      "=================================================================\n",
      "Total params: 1,720,330\n",
      "Trainable params: 1,720,330\n",
      "Non-trainable params: 0\n",
      "_________________________________________________________________\n"
     ]
    }
   ],
   "source": [
    "model.summary()"
   ]
  },
  {
   "cell_type": "code",
   "execution_count": 43,
   "id": "25c2dbf7",
   "metadata": {},
   "outputs": [],
   "source": [
    "model.compile(\n",
    "optimizer=RMSprop(),\n",
    "    loss=\"categorical_crossentropy\",\n",
    "    metrics=[\"accuracy\"]\n",
    ")"
   ]
  },
  {
   "cell_type": "code",
   "execution_count": 44,
   "id": "d2c6a598",
   "metadata": {},
   "outputs": [
    {
     "name": "stdout",
     "output_type": "stream",
     "text": [
      "Epoch 1/10\n",
      "1875/1875 [==============================] - 55s 30ms/step - loss: 0.4011 - accuracy: 0.9054 - val_loss: 0.2950 - val_accuracy: 0.9300\n",
      "Epoch 2/10\n",
      "1875/1875 [==============================] - 54s 29ms/step - loss: 0.4316 - accuracy: 0.9332 - val_loss: 0.2314 - val_accuracy: 0.9587\n",
      "Epoch 3/10\n",
      "1875/1875 [==============================] - 56s 30ms/step - loss: 0.4943 - accuracy: 0.9323 - val_loss: 0.3028 - val_accuracy: 0.9538\n",
      "Epoch 4/10\n",
      "1875/1875 [==============================] - 54s 29ms/step - loss: 0.6501 - accuracy: 0.9249 - val_loss: 0.2371 - val_accuracy: 0.9576\n",
      "Epoch 5/10\n",
      "1875/1875 [==============================] - 54s 29ms/step - loss: 0.8194 - accuracy: 0.9183 - val_loss: 0.3756 - val_accuracy: 0.9385\n",
      "Epoch 6/10\n",
      "1875/1875 [==============================] - 53s 28ms/step - loss: 0.9728 - accuracy: 0.8971 - val_loss: 0.6642 - val_accuracy: 0.8530\n",
      "Epoch 7/10\n",
      "1875/1875 [==============================] - 52s 28ms/step - loss: 1.2420 - accuracy: 0.8742 - val_loss: 0.6526 - val_accuracy: 0.8639\n",
      "Epoch 8/10\n",
      "1875/1875 [==============================] - 53s 28ms/step - loss: 1.3872 - accuracy: 0.8303 - val_loss: 2.0168 - val_accuracy: 0.7847\n",
      "Epoch 9/10\n",
      "1875/1875 [==============================] - 54s 29ms/step - loss: 1.5932 - accuracy: 0.8183 - val_loss: 1.4490 - val_accuracy: 0.8310\n",
      "Epoch 10/10\n",
      "1875/1875 [==============================] - 54s 29ms/step - loss: 1.8144 - accuracy: 0.7761 - val_loss: 1.3593 - val_accuracy: 0.7229\n"
     ]
    },
    {
     "data": {
      "text/plain": [
       "<tensorflow.python.keras.callbacks.History at 0x1bb47348880>"
      ]
     },
     "execution_count": 44,
     "metadata": {},
     "output_type": "execute_result"
    }
   ],
   "source": [
    "model.fit(\n",
    "xtrain_datasets,ytrain_datasets,batch_size=batch_size,epochs=epochs,verbose=1,validation_data=(xtest_datasets,ytest_datasets)\n",
    ")"
   ]
  },
  {
   "cell_type": "code",
   "execution_count": 45,
   "id": "1c387467",
   "metadata": {},
   "outputs": [],
   "source": [
    "models_evaluations=model.evaluate(xtest_datasetst_datasetst_datasets,ytest_datasets,verbose=0)"
   ]
  },
  {
   "cell_type": "code",
   "execution_count": 46,
   "id": "fa01f589",
   "metadata": {},
   "outputs": [
    {
     "name": "stdout",
     "output_type": "stream",
     "text": [
      "Testing loss for models \t 1.3593239784240723\n",
      "Testing accuracy for models \t 0.7228999733924866\n"
     ]
    }
   ],
   "source": [
    "print(\"Testing loss for models \\t\",models_evaluations[0])\n",
    "print(\"Testing accuracy for models \\t\",models_evaluations[1])"
   ]
  },
  {
   "cell_type": "code",
   "execution_count": null,
   "id": "f9904974",
   "metadata": {},
   "outputs": [],
   "source": []
  }
 ],
 "metadata": {
  "kernelspec": {
   "display_name": "Python 3 (ipykernel)",
   "language": "python",
   "name": "python3"
  },
  "language_info": {
   "codemirror_mode": {
    "name": "ipython",
    "version": 3
   },
   "file_extension": ".py",
   "mimetype": "text/x-python",
   "name": "python",
   "nbconvert_exporter": "python",
   "pygments_lexer": "ipython3",
   "version": "3.8.13"
  }
 },
 "nbformat": 4,
 "nbformat_minor": 5
}
